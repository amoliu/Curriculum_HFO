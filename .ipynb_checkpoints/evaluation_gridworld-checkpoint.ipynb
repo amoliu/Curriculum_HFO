{
 "cells": [
  {
   "cell_type": "code",
   "execution_count": 2,
   "metadata": {},
   "outputs": [
    {
     "name": "stdout",
     "output_type": "stream",
     "text": [
      "Could use 2000 runs from expected 2000\n",
      "Could use 2000 runs from expected 2000\n",
      "Could use 2000 runs from expected 2000\n",
      "Could use 2000 runs from expected 2000\n"
     ]
    },
    {
     "name": "stderr",
     "output_type": "stream",
     "text": [
      "/Users/leno/gitProjects/Curriculum_HFO/exp_utils.py:250: MatplotlibDeprecationWarning: The set_axis_bgcolor function was deprecated in version 2.0. Use set_facecolor instead.\n",
      "  plt.gca().set_axis_bgcolor('white')\n"
     ]
    },
    {
     "ename": "TypeError",
     "evalue": "expected str, bytes or os.PathLike object, not NoneType",
     "output_type": "error",
     "traceback": [
      "\u001b[0;31m---------------------------------------------------------------------------\u001b[0m",
      "\u001b[0;31mTypeError\u001b[0m                                 Traceback (most recent call last)",
      "\u001b[0;32m<ipython-input-2-6db9c27b4b46>\u001b[0m in \u001b[0;36m<module>\u001b[0;34m()\u001b[0m\n\u001b[1;32m     65\u001b[0m \u001b[0;34m\u001b[0m\u001b[0m\n\u001b[1;32m     66\u001b[0m exp_utils.draw_graph(source5=source1, name5=name1, source2=source2,name2=name2,source3=source3,name3=name3,source4=source4,name4=name4,#source5=source5,name5=name5,source6=source6,name6=name6,\n\u001b[0;32m---> 67\u001b[0;31m                      ci=printCI,yMin=-15, yMax = 20)\n\u001b[0m\u001b[1;32m     68\u001b[0m exp_utils.draw_graph(source1=source1, name1=name1, source2=source2,name2=name2,source3=source3,name3=name3,#source4=source4,name4=name4,#source5=source5,name5=name5,source6=source6,name6=name6,\n\u001b[1;32m     69\u001b[0m                      ci=printCI,what='__CUMULATIVE_rewards',xMin = startingCumulative,xMax=8000)\n",
      "\u001b[0;32m~/gitProjects/Curriculum_HFO/exp_utils.py\u001b[0m in \u001b[0;36mdraw_graph\u001b[0;34m(source1, name1, significant1, source2, name2, significant2, source3, name3, significant3, source4, name4, significant4, source5, name5, significant5, source6, name6, significant6, what, ci, nCol, xMin, xMax, yMin, yMax, bigFont)\u001b[0m\n\u001b[1;32m    253\u001b[0m     \u001b[0mlineWidth\u001b[0m \u001b[0;34m=\u001b[0m \u001b[0;36m8.0\u001b[0m \u001b[0;32mif\u001b[0m \u001b[0mbigFont\u001b[0m \u001b[0;32melse\u001b[0m \u001b[0;36m4.0\u001b[0m\u001b[0;34m\u001b[0m\u001b[0m\n\u001b[1;32m    254\u001b[0m \u001b[0;34m\u001b[0m\u001b[0m\n\u001b[0;32m--> 255\u001b[0;31m     \u001b[0;32mwith\u001b[0m \u001b[0mopen\u001b[0m\u001b[0;34m(\u001b[0m\u001b[0mos\u001b[0m\u001b[0;34m.\u001b[0m\u001b[0mpath\u001b[0m\u001b[0;34m.\u001b[0m\u001b[0mjoin\u001b[0m\u001b[0;34m(\u001b[0m\u001b[0msource1\u001b[0m\u001b[0;34m,\u001b[0m \u001b[0mwhat\u001b[0m\u001b[0;34m)\u001b[0m\u001b[0;34m,\u001b[0m \u001b[0;34m'r'\u001b[0m\u001b[0;34m)\u001b[0m \u001b[0;32mas\u001b[0m \u001b[0mf\u001b[0m\u001b[0;34m:\u001b[0m\u001b[0;34m\u001b[0m\u001b[0m\n\u001b[0m\u001b[1;32m    256\u001b[0m             \u001b[0mfirst_line\u001b[0m \u001b[0;34m=\u001b[0m \u001b[0mf\u001b[0m\u001b[0;34m.\u001b[0m\u001b[0mreadline\u001b[0m\u001b[0;34m(\u001b[0m\u001b[0;34m)\u001b[0m\u001b[0;34m\u001b[0m\u001b[0m\n\u001b[1;32m    257\u001b[0m     \u001b[0;32mif\u001b[0m \u001b[0mfirst_line\u001b[0m\u001b[0;34m.\u001b[0m\u001b[0msplit\u001b[0m\u001b[0;34m(\u001b[0m\u001b[0;34m','\u001b[0m\u001b[0;34m)\u001b[0m\u001b[0;34m[\u001b[0m\u001b[0;36m0\u001b[0m\u001b[0;34m]\u001b[0m\u001b[0;34m==\u001b[0m\u001b[0;34m'steps'\u001b[0m\u001b[0;34m:\u001b[0m\u001b[0;34m\u001b[0m\u001b[0m\n",
      "\u001b[0;32m~/anaconda3/lib/python3.6/posixpath.py\u001b[0m in \u001b[0;36mjoin\u001b[0;34m(a, *p)\u001b[0m\n\u001b[1;32m     76\u001b[0m     \u001b[0mwill\u001b[0m \u001b[0mbe\u001b[0m \u001b[0mdiscarded\u001b[0m\u001b[0;34m.\u001b[0m  \u001b[0mAn\u001b[0m \u001b[0mempty\u001b[0m \u001b[0mlast\u001b[0m \u001b[0mpart\u001b[0m \u001b[0mwill\u001b[0m \u001b[0mresult\u001b[0m \u001b[0;32min\u001b[0m \u001b[0ma\u001b[0m \u001b[0mpath\u001b[0m \u001b[0mthat\u001b[0m\u001b[0;34m\u001b[0m\u001b[0m\n\u001b[1;32m     77\u001b[0m     ends with a separator.\"\"\"\n\u001b[0;32m---> 78\u001b[0;31m     \u001b[0ma\u001b[0m \u001b[0;34m=\u001b[0m \u001b[0mos\u001b[0m\u001b[0;34m.\u001b[0m\u001b[0mfspath\u001b[0m\u001b[0;34m(\u001b[0m\u001b[0ma\u001b[0m\u001b[0;34m)\u001b[0m\u001b[0;34m\u001b[0m\u001b[0m\n\u001b[0m\u001b[1;32m     79\u001b[0m     \u001b[0msep\u001b[0m \u001b[0;34m=\u001b[0m \u001b[0m_get_sep\u001b[0m\u001b[0;34m(\u001b[0m\u001b[0ma\u001b[0m\u001b[0;34m)\u001b[0m\u001b[0;34m\u001b[0m\u001b[0m\n\u001b[1;32m     80\u001b[0m     \u001b[0mpath\u001b[0m \u001b[0;34m=\u001b[0m \u001b[0ma\u001b[0m\u001b[0;34m\u001b[0m\u001b[0m\n",
      "\u001b[0;31mTypeError\u001b[0m: expected str, bytes or os.PathLike object, not NoneType"
     ]
    }
   ],
   "source": [
    "import exp_utils\n",
    "\n",
    "#Folder containing all experiment files\n",
    "fileFolder = './src/log/GridWorld/'\n",
    "#fileFolder = './src/log/HFODomain_backup0-2/'\n",
    "#Experiment 1 - Simultaneously Learning agents\n",
    "\n",
    "source1 = fileFolder + 'QLearning-NoneCurriculum'\n",
    "source2 = fileFolder + 'PITAMQLearning-GeneratedSourceOOCurriculum'\n",
    "source3 = fileFolder + 'VFReuseQLearning-ObjectOrientedCurriculum'\n",
    "source4 = fileFolder + 'VFReuseQLearning-SvetlikCurriculum'\n",
    "\n",
    "\n",
    "\n",
    "name1 = 'No Curriculum'\n",
    "name2 = 'OO - Generated'\n",
    "name3 = 'OO - Given'\n",
    "name4 = 'Svetlik'\n",
    "#name5 = 'RS - Generated'\n",
    "#name6 = 'VF - Svetlik'\n",
    "#name6 = 'Scratch'\n",
    "\n",
    "startingCumulative = 500\n",
    "\n",
    "#Prepare intermediary files with experiment's summary.\n",
    "exp_utils.collect_experiment_data(source1, runs = 2000,hfo=False)\n",
    "exp_utils.summarize_experiment_data(source1,hfo=False)\n",
    "exp_utils.cumulative_experiment_data(source1,startingFrom=startingCumulative,hfo=False)\n",
    "exp_utils.collect_experiment_data(source2, runs = 2000,hfo=False)\n",
    "exp_utils.summarize_experiment_data(source2,hfo=False)\n",
    "exp_utils.cumulative_experiment_data(source2,startingFrom=startingCumulative,hfo=False)\n",
    "exp_utils.collect_experiment_data(source3, runs =2000,hfo=False)\n",
    "exp_utils.summarize_experiment_data(source3,hfo=False)\n",
    "exp_utils.cumulative_experiment_data(source3,startingFrom=startingCumulative,hfo=False)\n",
    "exp_utils.collect_experiment_data(source4, runs =2000)\n",
    "exp_utils.summarize_experiment_data(source4)\n",
    "exp_utils.cumulative_experiment_data(source4,startingFrom=startingCumulative)\n",
    "#exp_utils.collect_experiment_data(source5, runs =10000)\n",
    "#exp_utils.summarize_experiment_data(source5)\n",
    "#exp_utils.cumulative_experiment_data(source5,startingFrom=startingCumulative)\n",
    "#exp_utils.collect_experiment_data(source6, runs =10000)\n",
    "#exp_utils.summarize_experiment_data(source6)\n",
    "#exp_utils.cumulative_experiment_data(source6,startingFrom=startingCumulative)\n",
    "\n",
    "#Intervals for zoomed averages\n",
    "xMinPerc = 4500\n",
    "xMaxPerc = 5000\n",
    "yMinPerc = 64\n",
    "yMaxPerc = 75\n",
    "\n",
    "#Intervals for Time for Goal graphs\n",
    "xMinStep = 3000\n",
    "xMaxStep = 5000\n",
    "yMinStep = 95\n",
    "yMaxStep = 110\n",
    "\n",
    "xMinStep2 = 0\n",
    "xMaxStep2 = 1000\n",
    "yMinStep2 = 30\n",
    "yMaxStep2 = 110\n",
    "\n",
    "\n",
    "printCI = True\n",
    "\n",
    "\n",
    "exp_utils.draw_graph(source5=source1, name5=name1, source2=source2,name2=name2,source3=source3,name3=name3,source4=source4,name4=name4,#source5=source5,name5=name5,source6=source6,name6=name6,\n",
    "                     ci=printCI,yMin=-15, yMax = 20,xMin = 0,xMax=4500)\n",
    "exp_utils.draw_graph(source1=source1, name1=name1, source2=source2,name2=name2,source3=source3,name3=name3,#source4=source4,name4=name4,#source5=source5,name5=name5,source6=source6,name6=name6,\n",
    "                     ci=printCI,what='__CUMULATIVE_rewards',xMin = startingCumulative,xMax=8000)\n",
    "exp_utils.draw_graph(source1=source1, name1=name1, source2=source2,name2=name2, source3=source3,name3=name3,source4=source4,name4=name4,#source4=source4,name4=name4,#source5=source5,name5=name5,source6=source6,name6=name6,\n",
    "                     ci=printCI,what='__SUMMARY_steps')#,xMax = 10000, xMin=0)\n",
    "\n"
   ]
  },
  {
   "cell_type": "code",
   "execution_count": null,
   "metadata": {
    "collapsed": true
   },
   "outputs": [],
   "source": []
  },
  {
   "cell_type": "code",
   "execution_count": null,
   "metadata": {
    "collapsed": true
   },
   "outputs": [],
   "source": []
  }
 ],
 "metadata": {
  "kernelspec": {
   "display_name": "Python 3",
   "language": "python",
   "name": "python3"
  },
  "language_info": {
   "codemirror_mode": {
    "name": "ipython",
    "version": 3
   },
   "file_extension": ".py",
   "mimetype": "text/x-python",
   "name": "python",
   "nbconvert_exporter": "python",
   "pygments_lexer": "ipython3",
   "version": "3.6.2"
  }
 },
 "nbformat": 4,
 "nbformat_minor": 2
}
