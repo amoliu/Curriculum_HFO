{
 "cells": [
  {
   "cell_type": "code",
   "execution_count": 8,
   "metadata": {
    "scrolled": false
   },
   "outputs": [
    {
     "name": "stdout",
     "output_type": "stream",
     "text": [
      "Could use 8 runs from expected 50\n",
      "Could use 0 runs from expected 50\n"
     ]
    },
    {
     "name": "stderr",
     "output_type": "stream",
     "text": [
      "/home/leno/gitProjects/Curriculum_HFO/exp_utils.py:39: UserWarning: loadtxt: Empty input file: \"<_io.BufferedReader name='./src/log/HFODomain/PITAMSARSA-GeneratedSourceOOCurriculum/_0_1_AGENT_1_RESULTS_eval'>\"\n",
      "  _etime, _estep, _ereward, _egoalP = np.loadtxt(open(evalFile, \"rb\"), skiprows=1, delimiter=\",\", unpack=True)\n",
      "/home/leno/gitProjects/Curriculum_HFO/exp_utils.py:39: UserWarning: loadtxt: Empty input file: \"<_io.BufferedReader name='./src/log/HFODomain/PITAMSARSA-GeneratedSourceOOCurriculum/_0_6_AGENT_1_RESULTS_eval'>\"\n",
      "  _etime, _estep, _ereward, _egoalP = np.loadtxt(open(evalFile, \"rb\"), skiprows=1, delimiter=\",\", unpack=True)\n"
     ]
    },
    {
     "ename": "IndexError",
     "evalue": "too many indices for array",
     "output_type": "error",
     "traceback": [
      "\u001b[0;31m---------------------------------------------------------------------------\u001b[0m",
      "\u001b[0;31mIndexError\u001b[0m                                Traceback (most recent call last)",
      "\u001b[0;32m<ipython-input-8-f00db6badc92>\u001b[0m in \u001b[0;36m<module>\u001b[0;34m()\u001b[0m\n\u001b[1;32m     32\u001b[0m \u001b[0mexp_utils\u001b[0m\u001b[0;34m.\u001b[0m\u001b[0mcumulative_experiment_data\u001b[0m\u001b[0;34m(\u001b[0m\u001b[0msource1\u001b[0m\u001b[0;34m,\u001b[0m\u001b[0mstartingFrom\u001b[0m\u001b[0;34m=\u001b[0m\u001b[0mstartingCumulative\u001b[0m\u001b[0;34m)\u001b[0m\u001b[0;34m\u001b[0m\u001b[0m\n\u001b[1;32m     33\u001b[0m \u001b[0mexp_utils\u001b[0m\u001b[0;34m.\u001b[0m\u001b[0mcollect_experiment_data\u001b[0m\u001b[0;34m(\u001b[0m\u001b[0msource2\u001b[0m\u001b[0;34m,\u001b[0m \u001b[0mruns\u001b[0m \u001b[0;34m=\u001b[0m \u001b[0;36m50\u001b[0m\u001b[0;34m)\u001b[0m\u001b[0;34m\u001b[0m\u001b[0m\n\u001b[0;32m---> 34\u001b[0;31m \u001b[0mexp_utils\u001b[0m\u001b[0;34m.\u001b[0m\u001b[0msummarize_experiment_data\u001b[0m\u001b[0;34m(\u001b[0m\u001b[0msource2\u001b[0m\u001b[0;34m,\u001b[0m\u001b[0mconfidence\u001b[0m\u001b[0;34m=\u001b[0m\u001b[0mconfidence\u001b[0m\u001b[0;34m)\u001b[0m\u001b[0;34m\u001b[0m\u001b[0m\n\u001b[0m\u001b[1;32m     35\u001b[0m \u001b[0mexp_utils\u001b[0m\u001b[0;34m.\u001b[0m\u001b[0mcumulative_experiment_data\u001b[0m\u001b[0;34m(\u001b[0m\u001b[0msource2\u001b[0m\u001b[0;34m,\u001b[0m\u001b[0mstartingFrom\u001b[0m\u001b[0;34m=\u001b[0m\u001b[0mstartingCumulative\u001b[0m\u001b[0;34m)\u001b[0m\u001b[0;34m\u001b[0m\u001b[0m\n\u001b[1;32m     36\u001b[0m \u001b[0mexp_utils\u001b[0m\u001b[0;34m.\u001b[0m\u001b[0mcollect_experiment_data\u001b[0m\u001b[0;34m(\u001b[0m\u001b[0msource3\u001b[0m\u001b[0;34m,\u001b[0m \u001b[0mruns\u001b[0m \u001b[0;34m=\u001b[0m\u001b[0;36m50\u001b[0m\u001b[0;34m)\u001b[0m\u001b[0;34m\u001b[0m\u001b[0m\n",
      "\u001b[0;32m/home/leno/gitProjects/Curriculum_HFO/exp_utils.py\u001b[0m in \u001b[0;36msummarize_experiment_data\u001b[0;34m(source, confidence, hfo)\u001b[0m\n\u001b[1;32m    135\u001b[0m         \u001b[0mlistToSort\u001b[0m\u001b[0;34m.\u001b[0m\u001b[0msort\u001b[0m\u001b[0;34m(\u001b[0m\u001b[0mkey\u001b[0m\u001b[0;34m=\u001b[0m\u001b[0moperator\u001b[0m\u001b[0;34m.\u001b[0m\u001b[0mitemgetter\u001b[0m\u001b[0;34m(\u001b[0m\u001b[0;36m0\u001b[0m\u001b[0;34m)\u001b[0m\u001b[0;34m)\u001b[0m\u001b[0;34m\u001b[0m\u001b[0m\n\u001b[1;32m    136\u001b[0m         \u001b[0mvalues\u001b[0m \u001b[0;34m=\u001b[0m \u001b[0mnp\u001b[0m\u001b[0;34m.\u001b[0m\u001b[0marray\u001b[0m\u001b[0;34m(\u001b[0m\u001b[0mlistToSort\u001b[0m\u001b[0;34m)\u001b[0m\u001b[0;34m\u001b[0m\u001b[0m\n\u001b[0;32m--> 137\u001b[0;31m         \u001b[0mtrials\u001b[0m \u001b[0;34m=\u001b[0m \u001b[0mvalues\u001b[0m\u001b[0;34m[\u001b[0m\u001b[0;34m:\u001b[0m\u001b[0;34m,\u001b[0m\u001b[0;36m0\u001b[0m\u001b[0;34m]\u001b[0m\u001b[0;34m\u001b[0m\u001b[0m\n\u001b[0m\u001b[1;32m    138\u001b[0m         \u001b[0mdata\u001b[0m \u001b[0;34m=\u001b[0m \u001b[0mvalues\u001b[0m\u001b[0;34m[\u001b[0m\u001b[0;34m:\u001b[0m\u001b[0;34m,\u001b[0m\u001b[0;36m1\u001b[0m\u001b[0;34m:\u001b[0m\u001b[0;34m]\u001b[0m\u001b[0;34m\u001b[0m\u001b[0m\n\u001b[1;32m    139\u001b[0m         \u001b[0;31m#if value == \"__EVAL_goal\":\u001b[0m\u001b[0;34m\u001b[0m\u001b[0;34m\u001b[0m\u001b[0m\n",
      "\u001b[0;31mIndexError\u001b[0m: too many indices for array"
     ]
    }
   ],
   "source": [
    "import exp_utils\n",
    "\n",
    "#Folder containing all experiment files\n",
    "fileFolder = './src/log/HFODomain/'\n",
    "#fileFolder = './src/log/HFODomain_backup0-2/'\n",
    "#Experiment 1 - Simultaneously Learning agents\n",
    "\n",
    "\n",
    "source1 = fileFolder + 'SARSA-NoneCurriculum'\n",
    "source2 = fileFolder + 'PITAMSARSA-GeneratedSourceOOCurriculum'\n",
    "source3 = fileFolder + 'VFReuseSARSA-SvetlikCurriculum'\n",
    "source4 = fileFolder + 'PITAMSARSA-ObjectOrientedCurriculum'\n",
    "source5 = fileFolder + 'Dummy-NoneCurriculum'\n",
    "source6 = fileFolder + 'PITAMSARSA-GeneratedSourceOOCurriculum_bkp'\n",
    "\n",
    "\n",
    "\n",
    "name1 = 'No Curriculum'\n",
    "name2 = 'OO-Generated'\n",
    "name3 = 'Svetlik'\n",
    "name4 = 'OO-Given'\n",
    "name5 = 'Random'\n",
    "name6 = 'Random'\n",
    "#name6 = 'Scratch'\n",
    "\n",
    "startingCumulative = 10000\n",
    "confidence = 0.9\n",
    "\n",
    "#Prepare intermediary files with experiment's summary.\n",
    "exp_utils.collect_experiment_data(source1, runs = 50)\n",
    "exp_utils.summarize_experiment_data(source1,confidence=confidence)\n",
    "exp_utils.cumulative_experiment_data(source1,startingFrom=startingCumulative)\n",
    "exp_utils.collect_experiment_data(source2, runs = 50)\n",
    "exp_utils.summarize_experiment_data(source2,confidence=confidence)\n",
    "exp_utils.cumulative_experiment_data(source2,startingFrom=startingCumulative)\n",
    "exp_utils.collect_experiment_data(source3, runs =50)\n",
    "exp_utils.summarize_experiment_data(source3,confidence=confidence)\n",
    "exp_utils.cumulative_experiment_data(source3,startingFrom=startingCumulative)\n",
    "exp_utils.collect_experiment_data(source4, runs =50)\n",
    "exp_utils.summarize_experiment_data(source4,confidence=confidence)\n",
    "exp_utils.cumulative_experiment_data(source4,startingFrom=startingCumulative)\n",
    "exp_utils.collect_experiment_data(source5, runs =50)\n",
    "exp_utils.summarize_experiment_data(source5,confidence=confidence)\n",
    "exp_utils.cumulative_experiment_data(source5,startingFrom=startingCumulative)\n",
    "#exp_utils.collect_experiment_data(source6, runs =50)\n",
    "#exp_utils.summarize_experiment_data(source6,confidence=confidence)\n",
    "#exp_utils.cumulative_experiment_data(source6,startingFrom=startingCumulative)\n",
    "\n",
    "\n",
    "#Intervals for zoomed averages\n",
    "#xMinPerc = 4500\n",
    "#xMaxPerc = 5000\n",
    "#yMinPerc = 64\n",
    "#yMaxPerc = 75\n",
    "\n",
    "#Intervals for Time for Goal graphs\n",
    "###xMinStep = 3000\n",
    "#xMaxStep = 5000\n",
    "#yMinStep = 95\n",
    "#yMaxStep = 110\n",
    "\n",
    "#xMinStep2 = 0\n",
    "##xMaxStep2 = 1000\n",
    "#yMinStep2 = 30\n",
    "#yMaxStep2 = 110\n",
    "\n",
    "\n",
    "printCI = False\n",
    "\n",
    "\n",
    "exp_utils.draw_graph(source1=source1, name1=name1, source2=source2,name2=name2,source3=source3,name3=name3,source4=source4,name4=name4,#source5=source5,name5=name5,#source6=source6,name6=name6,\n",
    "                     ci=printCI,what='__SUMMARY_goal',bigFont = True,nCol=2)\n",
    "exp_utils.draw_graph(source1=source1, name1=name1, source2=source2,name2=name2,source3=source3,name3=name3,source4=source4,name4=name4,#source5=source5,name5=name5,#source6=source6,name6=name6,\n",
    "                     ci=printCI,what='__SHIFTED_goal',bigFont = True,nCol=2)\n",
    "exp_utils.draw_graph(source1=source1, name1=name1, source2=source2,name2=name2,source3=source3,name3=name3,source4=source4,name4=name4,#source5=source5,name5=name5,#source6=source6,name6=name6,\n",
    "                     ci=False,what='__CUMULATIVE_goal',bigFont = True,nCol=2)\n",
    "exp_utils.draw_graph(source1=source1, name1=name1, source2=source2,name2=name2,source3=source3,name3=name3,source4=source4,name4=name4,#source5=source5,name5=name5,#source6=source6,name6=name6,\n",
    "                     ci=False,what='__CUM_SHIFTED_goal',bigFont = True,nCol=2)\n",
    "exp_utils.draw_graph(source1=source1, name1=name1, source2=source2,name2=name2,source3=source3,name3=name3,source4=source4,name4=name4,#source5=source5,name5=name5,#source6=source6,name6=name6,\n",
    "                     ci=False,what='__CUMULATIVE_goal',xMin=80000,xMax=100000,yMin=550,yMax=850,bigFont = True,nCol=2)\n",
    "exp_utils.draw_graph(source1=source1, name1=name1, source2=source2,name2=name2,source3=source3,name3=name3,source4=source4,name4=name4,#source5=source5,name5=name5,#source6=source6,name6=name6,\n",
    "                     ci=printCI,what='__SUMMARY_rewards')\n",
    "exp_utils.draw_graph(source1=source1, name1=name1, source2=source2,name2=name2,source3=source3,name3=name3,source4=source4,name4=name4,#source5=source5,name5=name5,#source6=source6,name6=name6,\n",
    "                     ci=printCI,what='__SUMMARY_steps')#,xMax = 10000, xMin=0)"
   ]
  },
  {
   "cell_type": "code",
   "execution_count": null,
   "metadata": {
    "collapsed": true
   },
   "outputs": [],
   "source": []
  },
  {
   "cell_type": "code",
   "execution_count": null,
   "metadata": {
    "collapsed": true
   },
   "outputs": [],
   "source": []
  },
  {
   "cell_type": "code",
   "execution_count": null,
   "metadata": {
    "collapsed": true
   },
   "outputs": [],
   "source": []
  }
 ],
 "metadata": {
  "kernelspec": {
   "display_name": "Python 3",
   "language": "python",
   "name": "python3"
  },
  "language_info": {
   "codemirror_mode": {
    "name": "ipython",
    "version": 3
   },
   "file_extension": ".py",
   "mimetype": "text/x-python",
   "name": "python",
   "nbconvert_exporter": "python",
   "pygments_lexer": "ipython3",
   "version": "3.6.1"
  }
 },
 "nbformat": 4,
 "nbformat_minor": 2
}
